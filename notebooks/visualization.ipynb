
import sys
import os
import pandas as pd 
import numpy as np 
import matplotlib.pyplot as plt
import seaborn as sns
import scipy.stats as stats #It has all the probability distributions available along with many statistical functions.
sns.set(style="darkgrid") # set the background for the graphs
# Get the current working directory
current_dir = os.getcwd()

# Append the parent directory to sys.path
parent_dir = os.path.dirname(current_dir)
sys.path.append(parent_dir)

# ignore warrnings
import warnings
warnings.filterwarnings("ignore")
from scripts.Insurance_EDA import InsuranceEDA
#Reading the txt file MachineLearningRating_v3.txt
file_path = '../data/MachineLearningRating_v3.txt'
df=pd.read_csv(file_path, delimiter='|')
# inspect data, print top 5 
df.head(5)
#Initialize EDA class with the dataset file path
eda = InsuranceEDA(df)
#Data Summarization
#Descriptive Statistics
eda.summarize_data(df)
# for data structure
df.info()
df['VehicleIntroDate']=pd.to_datetime(df['VehicleIntroDate'],errors='coerce')
df['TransactionMonth']=pd.to_datetime(df['TransactionMonth'], errors='coerce')
df['RegistrationYear']=(df['RegistrationYear])
numerical_cols = df.select_dtypes(include=['int64', 'float64']).columns.tolist()
categorical_cols = df.select_dtypes(include=['object', 'bool']).columns.tolist()
# for data quality
df.isnull().sum()
df.isnull().sum()
eda.plot_histograms(df,numerical_cols)

eda.plot_bar_charts(df,categorical_cols)
eda.plot_bivariate_analysis(df, 'TotalPremium', 'TotalClaims', 'PostalCode')
eda.plot_bivariate_analysis(df,'TotalPremium)
eda.scatter_plot(df,'TotalPremium', 'TotalClaims')
eda.plot_trends_over_geography(df, 'CoverType', 'Province')
eda.plot_outlier_detection(df,numerical_cols)

# Box plot for selected columns
numerical_col=['PolicyID']
eda.plot_outlier_detection(df,numerical_col)
eda.create_creative_plots(df)
