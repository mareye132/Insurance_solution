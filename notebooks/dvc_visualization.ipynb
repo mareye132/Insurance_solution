{
 "cells": [
  {
   "cell_type": "code",
   "execution_count": 1,
   "metadata": {},
   "outputs": [
    {
     "name": "stdout",
     "output_type": "stream",
     "text": [
      "Data and pipelines are up to date.\n",
      "\n",
      "DVC Files Tracked:\n",
      " usage: dvc list [-h] [-q | -v] [-R] [--dvc-only] [--json] [--rev [<commit>]]\n",
      "                [--config config] [--remote remote]\n",
      "                [--remote-config [<name>=<value> ...]] [--size]\n",
      "                url [path]\n",
      "\n",
      "List repository contents, including files and directories tracked by DVC and by Git.\n",
      "Documentation: <https://man.dvc.org/list>\n",
      "\n",
      "positional arguments:\n",
      "  url                   Location of DVC repository to list\n",
      "  path                  Path to directory within the repository to list outputs for\n",
      "\n",
      "options:\n",
      "  -h, --help            show this help message and exit\n",
      "  -q, --quiet           Be quiet.\n",
      "  -v, --verbose         Be verbose.\n",
      "  -R, --recursive       Recursively list files.\n",
      "  --dvc-only            Show only DVC outputs.\n",
      "  --json                Show output in JSON format.\n",
      "  --rev [<commit>]      Git revision (e.g. SHA, branch, tag)\n",
      "  --config config       Path to a config file that will be merged with the config in the target repository.\n",
      "  --remote remote       Remote name to set as a default in the target repository.\n",
      "  --remote-config [<name>=<value> ...]\n",
      "                        Remote config options to merge with a remote's config (default or one specified by '--remote') in the target repository.\n",
      "  --size                Show sizes.\n",
      "\n"
     ]
    }
   ],
   "source": [
    "# Import necessary libraries\n",
    "import os\n",
    "import subprocess\n",
    "\n",
    "# Check DVC status and display dataset versioning info\n",
    "def check_dvc_status():\n",
    "    status = subprocess.run(['dvc', 'status'], capture_output=True, text=True)\n",
    "    print(status.stdout)\n",
    "\n",
    "def list_dvc_files():\n",
    "    files = subprocess.run(['dvc', 'list'], capture_output=True, text=True)\n",
    "    print(\"DVC Files Tracked:\\n\", files.stdout)\n",
    "\n",
    "# Run the DVC commands and visualize output\n",
    "check_dvc_status()\n",
    "list_dvc_files()\n"
   ]
  }
 ],
 "metadata": {
  "kernelspec": {
   "display_name": "Python 3",
   "language": "python",
   "name": "python3"
  },
  "language_info": {
   "codemirror_mode": {
    "name": "ipython",
    "version": 3
   },
   "file_extension": ".py",
   "mimetype": "text/x-python",
   "name": "python",
   "nbconvert_exporter": "python",
   "pygments_lexer": "ipython3",
   "version": "3.12.5"
  }
 },
 "nbformat": 4,
 "nbformat_minor": 2
}
